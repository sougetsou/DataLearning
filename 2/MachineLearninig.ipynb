{
 "cells": [
  {
   "cell_type": "code",
   "execution_count": 81,
   "outputs": [],
   "source": [
    "import seaborn as sns\n",
    "import sklearn as sk\n",
    "import pandas as pd\n",
    "import matplotlib.pyplot as plt\n",
    "from sklearn.model_selection import train_test_split #We need this to split the data\n",
    "import numpy as np\n",
    "\n",
    "import tensorflow as tf #neural networks library\n",
    "from sklearn.model_selection import train_test_split\n",
    "import math\n",
    "from sklearn.metrics import mean_squared_error"
   ],
   "metadata": {
    "collapsed": false,
    "pycharm": {
     "name": "#%%\n"
    }
   }
  },
  {
   "cell_type": "markdown",
   "source": [
    "I chose to work on the Gender recognition of voice because i thought that it could be interesting to see the results.\n"
   ],
   "metadata": {
    "collapsed": false,
    "pycharm": {
     "name": "#%% md\n"
    }
   }
  },
  {
   "cell_type": "code",
   "execution_count": 82,
   "outputs": [
    {
     "data": {
      "text/plain": "      meanfreq        sd    median       Q25       Q75       IQR       skew  \\\n0     0.059781  0.064241  0.032027  0.015071  0.090193  0.075122  12.863462   \n1     0.066009  0.067310  0.040229  0.019414  0.092666  0.073252  22.423285   \n2     0.077316  0.083829  0.036718  0.008701  0.131908  0.123207  30.757155   \n3     0.151228  0.072111  0.158011  0.096582  0.207955  0.111374   1.232831   \n4     0.135120  0.079146  0.124656  0.078720  0.206045  0.127325   1.101174   \n...        ...       ...       ...       ...       ...       ...        ...   \n3163  0.131884  0.084734  0.153707  0.049285  0.201144  0.151859   1.762129   \n3164  0.116221  0.089221  0.076758  0.042718  0.204911  0.162193   0.693730   \n3165  0.142056  0.095798  0.183731  0.033424  0.224360  0.190936   1.876502   \n3166  0.143659  0.090628  0.184976  0.043508  0.219943  0.176435   1.591065   \n3167  0.165509  0.092884  0.183044  0.070072  0.250827  0.180756   1.705029   \n\n             kurt    sp.ent       sfm  ...  centroid   meanfun    minfun  \\\n0      274.402906  0.893369  0.491918  ...  0.059781  0.084279  0.015702   \n1      634.613855  0.892193  0.513724  ...  0.066009  0.107937  0.015826   \n2     1024.927705  0.846389  0.478905  ...  0.077316  0.098706  0.015656   \n3        4.177296  0.963322  0.727232  ...  0.151228  0.088965  0.017798   \n4        4.333713  0.971955  0.783568  ...  0.135120  0.106398  0.016931   \n...           ...       ...       ...  ...       ...       ...       ...   \n3163     6.630383  0.962934  0.763182  ...  0.131884  0.182790  0.083770   \n3164     2.503954  0.960716  0.709570  ...  0.116221  0.188980  0.034409   \n3165     6.604509  0.946854  0.654196  ...  0.142056  0.209918  0.039506   \n3166     5.388298  0.950436  0.675470  ...  0.143659  0.172375  0.034483   \n3167     5.769115  0.938829  0.601529  ...  0.165509  0.185607  0.062257   \n\n        maxfun   meandom    mindom    maxdom   dfrange   modindx  label_male  \n0     0.275862  0.007812  0.007812  0.007812  0.000000  0.000000           1  \n1     0.250000  0.009014  0.007812  0.054688  0.046875  0.052632           1  \n2     0.271186  0.007990  0.007812  0.015625  0.007812  0.046512           1  \n3     0.250000  0.201497  0.007812  0.562500  0.554688  0.247119           1  \n4     0.266667  0.712812  0.007812  5.484375  5.476562  0.208274           1  \n...        ...       ...       ...       ...       ...       ...         ...  \n3163  0.262295  0.832899  0.007812  4.210938  4.203125  0.161929           0  \n3164  0.275862  0.909856  0.039062  3.679688  3.640625  0.277897           0  \n3165  0.275862  0.494271  0.007812  2.937500  2.929688  0.194759           0  \n3166  0.250000  0.791360  0.007812  3.593750  3.585938  0.311002           0  \n3167  0.271186  0.227022  0.007812  0.554688  0.546875  0.350000           0  \n\n[3168 rows x 21 columns]",
      "text/html": "<div>\n<style scoped>\n    .dataframe tbody tr th:only-of-type {\n        vertical-align: middle;\n    }\n\n    .dataframe tbody tr th {\n        vertical-align: top;\n    }\n\n    .dataframe thead th {\n        text-align: right;\n    }\n</style>\n<table border=\"1\" class=\"dataframe\">\n  <thead>\n    <tr style=\"text-align: right;\">\n      <th></th>\n      <th>meanfreq</th>\n      <th>sd</th>\n      <th>median</th>\n      <th>Q25</th>\n      <th>Q75</th>\n      <th>IQR</th>\n      <th>skew</th>\n      <th>kurt</th>\n      <th>sp.ent</th>\n      <th>sfm</th>\n      <th>...</th>\n      <th>centroid</th>\n      <th>meanfun</th>\n      <th>minfun</th>\n      <th>maxfun</th>\n      <th>meandom</th>\n      <th>mindom</th>\n      <th>maxdom</th>\n      <th>dfrange</th>\n      <th>modindx</th>\n      <th>label_male</th>\n    </tr>\n  </thead>\n  <tbody>\n    <tr>\n      <th>0</th>\n      <td>0.059781</td>\n      <td>0.064241</td>\n      <td>0.032027</td>\n      <td>0.015071</td>\n      <td>0.090193</td>\n      <td>0.075122</td>\n      <td>12.863462</td>\n      <td>274.402906</td>\n      <td>0.893369</td>\n      <td>0.491918</td>\n      <td>...</td>\n      <td>0.059781</td>\n      <td>0.084279</td>\n      <td>0.015702</td>\n      <td>0.275862</td>\n      <td>0.007812</td>\n      <td>0.007812</td>\n      <td>0.007812</td>\n      <td>0.000000</td>\n      <td>0.000000</td>\n      <td>1</td>\n    </tr>\n    <tr>\n      <th>1</th>\n      <td>0.066009</td>\n      <td>0.067310</td>\n      <td>0.040229</td>\n      <td>0.019414</td>\n      <td>0.092666</td>\n      <td>0.073252</td>\n      <td>22.423285</td>\n      <td>634.613855</td>\n      <td>0.892193</td>\n      <td>0.513724</td>\n      <td>...</td>\n      <td>0.066009</td>\n      <td>0.107937</td>\n      <td>0.015826</td>\n      <td>0.250000</td>\n      <td>0.009014</td>\n      <td>0.007812</td>\n      <td>0.054688</td>\n      <td>0.046875</td>\n      <td>0.052632</td>\n      <td>1</td>\n    </tr>\n    <tr>\n      <th>2</th>\n      <td>0.077316</td>\n      <td>0.083829</td>\n      <td>0.036718</td>\n      <td>0.008701</td>\n      <td>0.131908</td>\n      <td>0.123207</td>\n      <td>30.757155</td>\n      <td>1024.927705</td>\n      <td>0.846389</td>\n      <td>0.478905</td>\n      <td>...</td>\n      <td>0.077316</td>\n      <td>0.098706</td>\n      <td>0.015656</td>\n      <td>0.271186</td>\n      <td>0.007990</td>\n      <td>0.007812</td>\n      <td>0.015625</td>\n      <td>0.007812</td>\n      <td>0.046512</td>\n      <td>1</td>\n    </tr>\n    <tr>\n      <th>3</th>\n      <td>0.151228</td>\n      <td>0.072111</td>\n      <td>0.158011</td>\n      <td>0.096582</td>\n      <td>0.207955</td>\n      <td>0.111374</td>\n      <td>1.232831</td>\n      <td>4.177296</td>\n      <td>0.963322</td>\n      <td>0.727232</td>\n      <td>...</td>\n      <td>0.151228</td>\n      <td>0.088965</td>\n      <td>0.017798</td>\n      <td>0.250000</td>\n      <td>0.201497</td>\n      <td>0.007812</td>\n      <td>0.562500</td>\n      <td>0.554688</td>\n      <td>0.247119</td>\n      <td>1</td>\n    </tr>\n    <tr>\n      <th>4</th>\n      <td>0.135120</td>\n      <td>0.079146</td>\n      <td>0.124656</td>\n      <td>0.078720</td>\n      <td>0.206045</td>\n      <td>0.127325</td>\n      <td>1.101174</td>\n      <td>4.333713</td>\n      <td>0.971955</td>\n      <td>0.783568</td>\n      <td>...</td>\n      <td>0.135120</td>\n      <td>0.106398</td>\n      <td>0.016931</td>\n      <td>0.266667</td>\n      <td>0.712812</td>\n      <td>0.007812</td>\n      <td>5.484375</td>\n      <td>5.476562</td>\n      <td>0.208274</td>\n      <td>1</td>\n    </tr>\n    <tr>\n      <th>...</th>\n      <td>...</td>\n      <td>...</td>\n      <td>...</td>\n      <td>...</td>\n      <td>...</td>\n      <td>...</td>\n      <td>...</td>\n      <td>...</td>\n      <td>...</td>\n      <td>...</td>\n      <td>...</td>\n      <td>...</td>\n      <td>...</td>\n      <td>...</td>\n      <td>...</td>\n      <td>...</td>\n      <td>...</td>\n      <td>...</td>\n      <td>...</td>\n      <td>...</td>\n      <td>...</td>\n    </tr>\n    <tr>\n      <th>3163</th>\n      <td>0.131884</td>\n      <td>0.084734</td>\n      <td>0.153707</td>\n      <td>0.049285</td>\n      <td>0.201144</td>\n      <td>0.151859</td>\n      <td>1.762129</td>\n      <td>6.630383</td>\n      <td>0.962934</td>\n      <td>0.763182</td>\n      <td>...</td>\n      <td>0.131884</td>\n      <td>0.182790</td>\n      <td>0.083770</td>\n      <td>0.262295</td>\n      <td>0.832899</td>\n      <td>0.007812</td>\n      <td>4.210938</td>\n      <td>4.203125</td>\n      <td>0.161929</td>\n      <td>0</td>\n    </tr>\n    <tr>\n      <th>3164</th>\n      <td>0.116221</td>\n      <td>0.089221</td>\n      <td>0.076758</td>\n      <td>0.042718</td>\n      <td>0.204911</td>\n      <td>0.162193</td>\n      <td>0.693730</td>\n      <td>2.503954</td>\n      <td>0.960716</td>\n      <td>0.709570</td>\n      <td>...</td>\n      <td>0.116221</td>\n      <td>0.188980</td>\n      <td>0.034409</td>\n      <td>0.275862</td>\n      <td>0.909856</td>\n      <td>0.039062</td>\n      <td>3.679688</td>\n      <td>3.640625</td>\n      <td>0.277897</td>\n      <td>0</td>\n    </tr>\n    <tr>\n      <th>3165</th>\n      <td>0.142056</td>\n      <td>0.095798</td>\n      <td>0.183731</td>\n      <td>0.033424</td>\n      <td>0.224360</td>\n      <td>0.190936</td>\n      <td>1.876502</td>\n      <td>6.604509</td>\n      <td>0.946854</td>\n      <td>0.654196</td>\n      <td>...</td>\n      <td>0.142056</td>\n      <td>0.209918</td>\n      <td>0.039506</td>\n      <td>0.275862</td>\n      <td>0.494271</td>\n      <td>0.007812</td>\n      <td>2.937500</td>\n      <td>2.929688</td>\n      <td>0.194759</td>\n      <td>0</td>\n    </tr>\n    <tr>\n      <th>3166</th>\n      <td>0.143659</td>\n      <td>0.090628</td>\n      <td>0.184976</td>\n      <td>0.043508</td>\n      <td>0.219943</td>\n      <td>0.176435</td>\n      <td>1.591065</td>\n      <td>5.388298</td>\n      <td>0.950436</td>\n      <td>0.675470</td>\n      <td>...</td>\n      <td>0.143659</td>\n      <td>0.172375</td>\n      <td>0.034483</td>\n      <td>0.250000</td>\n      <td>0.791360</td>\n      <td>0.007812</td>\n      <td>3.593750</td>\n      <td>3.585938</td>\n      <td>0.311002</td>\n      <td>0</td>\n    </tr>\n    <tr>\n      <th>3167</th>\n      <td>0.165509</td>\n      <td>0.092884</td>\n      <td>0.183044</td>\n      <td>0.070072</td>\n      <td>0.250827</td>\n      <td>0.180756</td>\n      <td>1.705029</td>\n      <td>5.769115</td>\n      <td>0.938829</td>\n      <td>0.601529</td>\n      <td>...</td>\n      <td>0.165509</td>\n      <td>0.185607</td>\n      <td>0.062257</td>\n      <td>0.271186</td>\n      <td>0.227022</td>\n      <td>0.007812</td>\n      <td>0.554688</td>\n      <td>0.546875</td>\n      <td>0.350000</td>\n      <td>0</td>\n    </tr>\n  </tbody>\n</table>\n<p>3168 rows × 21 columns</p>\n</div>"
     },
     "execution_count": 82,
     "metadata": {},
     "output_type": "execute_result"
    }
   ],
   "source": [
    "#we import the dataset\n",
    "df = pd.read_csv('voice.csv')\n",
    "df=pd.get_dummies(df, drop_first=True)\n",
    "df"
   ],
   "metadata": {
    "collapsed": false,
    "pycharm": {
     "name": "#%%\n"
    }
   }
  },
  {
   "cell_type": "markdown",
   "source": [
    "Now we take 7 variables that i think have strong predictive value, also i din't understood what some of them represented so i choose only between the one i know."
   ],
   "metadata": {
    "collapsed": false,
    "pycharm": {
     "name": "#%% md\n"
    }
   }
  },
  {
   "cell_type": "code",
   "execution_count": 83,
   "outputs": [
    {
     "data": {
      "text/plain": "      meanfreq        sd       sfm      mode  centroid   dfrange  label_male\n0     0.059781  0.064241  0.491918  0.000000  0.059781  0.000000           1\n1     0.066009  0.067310  0.513724  0.000000  0.066009  0.046875           1\n2     0.077316  0.083829  0.478905  0.000000  0.077316  0.007812           1\n3     0.151228  0.072111  0.727232  0.083878  0.151228  0.554688           1\n4     0.135120  0.079146  0.783568  0.104261  0.135120  5.476562           1\n...        ...       ...       ...       ...       ...       ...         ...\n3163  0.131884  0.084734  0.763182  0.200836  0.131884  4.203125           0\n3164  0.116221  0.089221  0.709570  0.013683  0.116221  3.640625           0\n3165  0.142056  0.095798  0.654196  0.008006  0.142056  2.929688           0\n3166  0.143659  0.090628  0.675470  0.212202  0.143659  3.585938           0\n3167  0.165509  0.092884  0.601529  0.267702  0.165509  0.546875           0\n\n[3168 rows x 7 columns]",
      "text/html": "<div>\n<style scoped>\n    .dataframe tbody tr th:only-of-type {\n        vertical-align: middle;\n    }\n\n    .dataframe tbody tr th {\n        vertical-align: top;\n    }\n\n    .dataframe thead th {\n        text-align: right;\n    }\n</style>\n<table border=\"1\" class=\"dataframe\">\n  <thead>\n    <tr style=\"text-align: right;\">\n      <th></th>\n      <th>meanfreq</th>\n      <th>sd</th>\n      <th>sfm</th>\n      <th>mode</th>\n      <th>centroid</th>\n      <th>dfrange</th>\n      <th>label_male</th>\n    </tr>\n  </thead>\n  <tbody>\n    <tr>\n      <th>0</th>\n      <td>0.059781</td>\n      <td>0.064241</td>\n      <td>0.491918</td>\n      <td>0.000000</td>\n      <td>0.059781</td>\n      <td>0.000000</td>\n      <td>1</td>\n    </tr>\n    <tr>\n      <th>1</th>\n      <td>0.066009</td>\n      <td>0.067310</td>\n      <td>0.513724</td>\n      <td>0.000000</td>\n      <td>0.066009</td>\n      <td>0.046875</td>\n      <td>1</td>\n    </tr>\n    <tr>\n      <th>2</th>\n      <td>0.077316</td>\n      <td>0.083829</td>\n      <td>0.478905</td>\n      <td>0.000000</td>\n      <td>0.077316</td>\n      <td>0.007812</td>\n      <td>1</td>\n    </tr>\n    <tr>\n      <th>3</th>\n      <td>0.151228</td>\n      <td>0.072111</td>\n      <td>0.727232</td>\n      <td>0.083878</td>\n      <td>0.151228</td>\n      <td>0.554688</td>\n      <td>1</td>\n    </tr>\n    <tr>\n      <th>4</th>\n      <td>0.135120</td>\n      <td>0.079146</td>\n      <td>0.783568</td>\n      <td>0.104261</td>\n      <td>0.135120</td>\n      <td>5.476562</td>\n      <td>1</td>\n    </tr>\n    <tr>\n      <th>...</th>\n      <td>...</td>\n      <td>...</td>\n      <td>...</td>\n      <td>...</td>\n      <td>...</td>\n      <td>...</td>\n      <td>...</td>\n    </tr>\n    <tr>\n      <th>3163</th>\n      <td>0.131884</td>\n      <td>0.084734</td>\n      <td>0.763182</td>\n      <td>0.200836</td>\n      <td>0.131884</td>\n      <td>4.203125</td>\n      <td>0</td>\n    </tr>\n    <tr>\n      <th>3164</th>\n      <td>0.116221</td>\n      <td>0.089221</td>\n      <td>0.709570</td>\n      <td>0.013683</td>\n      <td>0.116221</td>\n      <td>3.640625</td>\n      <td>0</td>\n    </tr>\n    <tr>\n      <th>3165</th>\n      <td>0.142056</td>\n      <td>0.095798</td>\n      <td>0.654196</td>\n      <td>0.008006</td>\n      <td>0.142056</td>\n      <td>2.929688</td>\n      <td>0</td>\n    </tr>\n    <tr>\n      <th>3166</th>\n      <td>0.143659</td>\n      <td>0.090628</td>\n      <td>0.675470</td>\n      <td>0.212202</td>\n      <td>0.143659</td>\n      <td>3.585938</td>\n      <td>0</td>\n    </tr>\n    <tr>\n      <th>3167</th>\n      <td>0.165509</td>\n      <td>0.092884</td>\n      <td>0.601529</td>\n      <td>0.267702</td>\n      <td>0.165509</td>\n      <td>0.546875</td>\n      <td>0</td>\n    </tr>\n  </tbody>\n</table>\n<p>3168 rows × 7 columns</p>\n</div>"
     },
     "execution_count": 83,
     "metadata": {},
     "output_type": "execute_result"
    }
   ],
   "source": [
    "selec=df[['meanfreq','sd','sfm','mode','centroid','dfrange','label_male']]\n",
    "selec.dropna()"
   ],
   "metadata": {
    "collapsed": false,
    "pycharm": {
     "name": "#%%\n"
    }
   }
  },
  {
   "cell_type": "markdown",
   "source": [
    "now we look at each variable and search for the outliars\n",
    "so that we can clean them if necessary\n",
    "(i only let the plots of the variable with lots of outliers)"
   ],
   "metadata": {
    "collapsed": false,
    "pycharm": {
     "name": "#%% md\n"
    }
   }
  },
  {
   "cell_type": "code",
   "execution_count": 84,
   "outputs": [
    {
     "name": "stderr",
     "output_type": "stream",
     "text": [
      "C:\\Users\\tomre\\PycharmProjects\\JupiterNotebook\\venv\\lib\\site-packages\\seaborn\\_decorators.py:36: FutureWarning: Pass the following variable as a keyword arg: x. From version 0.12, the only valid positional argument will be `data`, and passing other arguments without an explicit keyword will result in an error or misinterpretation.\n",
      "  warnings.warn(\n"
     ]
    },
    {
     "data": {
      "text/plain": "<Figure size 432x288 with 1 Axes>",
      "image/png": "[encoded data removed]"
     },
     "metadata": {},
     "output_type": "display_data"
    }
   ],
   "source": [
    "sns.boxplot(df['meanfreq'])\n",
    "plt.title('Agmeanfreq boxplot')\n",
    "plt.xlabel('meanfreq')\n",
    "plt.show()"
   ],
   "metadata": {
    "collapsed": false,
    "pycharm": {
     "name": "#%%\n"
    }
   }
  },
  {
   "cell_type": "code",
   "execution_count": 85,
   "outputs": [
    {
     "name": "stderr",
     "output_type": "stream",
     "text": [
      "C:\\Users\\tomre\\PycharmProjects\\JupiterNotebook\\venv\\lib\\site-packages\\seaborn\\_decorators.py:36: FutureWarning: Pass the following variable as a keyword arg: x. From version 0.12, the only valid positional argument will be `data`, and passing other arguments without an explicit keyword will result in an error or misinterpretation.\n",
      "  warnings.warn(\n"
     ]
    },
    {
     "data": {
      "text/plain": "<Figure size 432x288 with 1 Axes>",
      "image/png": "[encoded data removed]"
     },
     "metadata": {},
     "output_type": "display_data"
    }
   ],
   "source": [
    "sns.boxplot(df['sd'])\n",
    "plt.title('sd boxplot')\n",
    "plt.xlabel('sd')\n",
    "plt.show()"
   ],
   "metadata": {
    "collapsed": false,
    "pycharm": {
     "name": "#%%\n"
    }
   }
  },
  {
   "cell_type": "code",
   "execution_count": 86,
   "outputs": [
    {
     "name": "stderr",
     "output_type": "stream",
     "text": [
      "C:\\Users\\tomre\\PycharmProjects\\JupiterNotebook\\venv\\lib\\site-packages\\seaborn\\_decorators.py:36: FutureWarning: Pass the following variable as a keyword arg: x. From version 0.12, the only valid positional argument will be `data`, and passing other arguments without an explicit keyword will result in an error or misinterpretation.\n",
      "  warnings.warn(\n"
     ]
    },
    {
     "data": {
      "text/plain": "<Figure size 432x288 with 1 Axes>",
      "image/png": "[encoded data removed]"
     },
     "metadata": {},
     "output_type": "display_data"
    }
   ],
   "source": [
    "sns.boxplot(df['centroid'])\n",
    "plt.title('centroid boxplot')\n",
    "plt.xlabel('centroid')\n",
    "plt.show()"
   ],
   "metadata": {
    "collapsed": false,
    "pycharm": {
     "name": "#%%\n"
    }
   }
  },
  {
   "cell_type": "markdown",
   "source": [
    "now we're going to use the k-nearest neighbor to train a model to predict the gender based on voice variable that we selcted\n",
    "To do that we split the dataframe into a training one and a testing one\n",
    "Then we create a model with the training dataframe and we see how good it fit into the testing one"
   ],
   "metadata": {
    "collapsed": false,
    "pycharm": {
     "name": "#%% md\n"
    }
   }
  },
  {
   "cell_type": "code",
   "execution_count": 87,
   "outputs": [],
   "source": [
    "from sklearn.preprocessing import normalize  #get the function needed to normalize our data.\n",
    "\n",
    "X = df.loc[:, 'meanfreq':'dfrange']  #create the X matrix\n",
    "X = normalize(X)  #normalize the matrix to put everything on the same scale\n",
    "y = df['label_male']  #create the y-variable\n",
    "X_train, X_test, y_train, y_test = train_test_split(X, y, test_size=0.3, random_state=1)\n",
    "\n",
    "from sklearn.neighbors import KNeighborsClassifier  #the object class we need\n",
    "\n",
    "knn = KNeighborsClassifier(n_neighbors=5)  #create a KNN-classifier with 5 neighbors (default)\n",
    "knn = knn.fit(X_train, y_train)  #this fits the k-nearest neigbor model with the train data\n"
   ],
   "metadata": {
    "collapsed": false,
    "pycharm": {
     "name": "#%%\n"
    }
   }
  },
  {
   "cell_type": "markdown",
   "source": [
    "After training the model we calculate how well it fits the testing dataframe"
   ],
   "metadata": {
    "collapsed": false,
    "pycharm": {
     "name": "#%% md\n"
    }
   }
  },
  {
   "cell_type": "code",
   "execution_count": 88,
   "outputs": [
    {
     "data": {
      "text/plain": "0.7960042060988434"
     },
     "execution_count": 88,
     "metadata": {},
     "output_type": "execute_result"
    }
   ],
   "source": [
    "knn.score(X_test, y_test)  #calculate the fit on the test data"
   ],
   "metadata": {
    "collapsed": false,
    "pycharm": {
     "name": "#%%\n"
    }
   }
  },
  {
   "cell_type": "markdown",
   "source": [
    "Almost 80% of the prediction are accurate which is pretty good\n",
    "Then we can see the confusion matrix of the predictions"
   ],
   "metadata": {
    "collapsed": false,
    "pycharm": {
     "name": "#%% md\n"
    }
   }
  },
  {
   "cell_type": "code",
   "execution_count": 89,
   "outputs": [
    {
     "data": {
      "text/plain": "array([[362,  95],\n       [ 99, 395]], dtype=int64)"
     },
     "execution_count": 89,
     "metadata": {},
     "output_type": "execute_result"
    }
   ],
   "source": [
    "from sklearn.metrics import confusion_matrix\n",
    "y_test_pred = knn.predict(X_test) #the predicted values\n",
    "cm = confusion_matrix(y_test, y_test_pred) #creates a \"confusion matrix\"\n",
    "cm"
   ],
   "metadata": {
    "collapsed": false,
    "pycharm": {
     "name": "#%%\n"
    }
   }
  },
  {
   "cell_type": "markdown",
   "source": [
    "Now we calculte the precision, accuracy and recal of the model."
   ],
   "metadata": {
    "collapsed": false,
    "pycharm": {
     "name": "#%% md\n"
    }
   }
  },
  {
   "cell_type": "code",
   "execution_count": 90,
   "outputs": [
    {
     "data": {
      "text/plain": "                Female(predicted)  Male (predicted)\nFemale(actual)                362                95\nMale (actual)                  99               395",
      "text/html": "<div>\n<style scoped>\n    .dataframe tbody tr th:only-of-type {\n        vertical-align: middle;\n    }\n\n    .dataframe tbody tr th {\n        vertical-align: top;\n    }\n\n    .dataframe thead th {\n        text-align: right;\n    }\n</style>\n<table border=\"1\" class=\"dataframe\">\n  <thead>\n    <tr style=\"text-align: right;\">\n      <th></th>\n      <th>Female(predicted)</th>\n      <th>Male (predicted)</th>\n    </tr>\n  </thead>\n  <tbody>\n    <tr>\n      <th>Female(actual)</th>\n      <td>362</td>\n      <td>95</td>\n    </tr>\n    <tr>\n      <th>Male (actual)</th>\n      <td>99</td>\n      <td>395</td>\n    </tr>\n  </tbody>\n</table>\n</div>"
     },
     "execution_count": 90,
     "metadata": {},
     "output_type": "execute_result"
    }
   ],
   "source": [
    "conf_matrix = pd.DataFrame(cm, index=['Female(actual)', 'Male (actual)'],\n",
    "                           columns=['Female(predicted)', 'Male (predicted)'])\n",
    "conf_matrix"
   ],
   "metadata": {
    "collapsed": false,
    "pycharm": {
     "name": "#%%\n"
    }
   }
  },
  {
   "cell_type": "code",
   "execution_count": 94,
   "outputs": [
    {
     "data": {
      "text/plain": "0.8210412147505423"
     },
     "execution_count": 94,
     "metadata": {},
     "output_type": "execute_result"
    }
   ],
   "source": [
    "mort_accuracy = (conf_matrix.iloc[1]['Male (predicted)']+conf_matrix.iloc[0]['Female(predicted)'])/(conf_matrix.iloc[0]['Female(predicted)']+conf_matrix.iloc[1]['Female(predicted)']+conf_matrix.iloc[0]['Female(predicted)']+conf_matrix.iloc[1]['Female(predicted)'])\n",
    "mort_accuracy"
   ],
   "metadata": {
    "collapsed": false,
    "pycharm": {
     "name": "#%%\n"
    }
   }
  },
  {
   "cell_type": "code",
   "execution_count": 91,
   "outputs": [
    {
     "data": {
      "text/plain": "0.7921225382932167"
     },
     "execution_count": 91,
     "metadata": {},
     "output_type": "execute_result"
    }
   ],
   "source": [
    "Gender_precision = conf_matrix.iloc[0]['Female(predicted)']/(conf_matrix.iloc[0]['Female(predicted)']+conf_matrix.iloc[0]['Male (predicted)'])\n",
    "Gender_precision"
   ],
   "metadata": {
    "collapsed": false,
    "pycharm": {
     "name": "#%%\n"
    }
   }
  },
  {
   "cell_type": "code",
   "execution_count": 92,
   "outputs": [
    {
     "data": {
      "text/plain": "0.7852494577006508"
     },
     "execution_count": 92,
     "metadata": {},
     "output_type": "execute_result"
    }
   ],
   "source": [
    "mort_recal = conf_matrix.iloc[0]['Female(predicted)']/(conf_matrix.iloc[0]['Female(predicted)']+conf_matrix.iloc[1]['Female(predicted)'])\n",
    "mort_recal"
   ],
   "metadata": {
    "collapsed": false,
    "pycharm": {
     "name": "#%%\n"
    }
   }
  },
  {
   "cell_type": "markdown",
   "source": [
    "We can see that the model seems to be better at predicting Male than Female because the recal with female prediction is worst than the acuracy"
   ],
   "metadata": {
    "collapsed": false,
    "pycharm": {
     "name": "#%% md\n"
    }
   }
  }
 ],
 "metadata": {
  "kernelspec": {
   "display_name": "Python 3",
   "language": "python",
   "name": "python3"
  },
  "language_info": {
   "codemirror_mode": {
    "name": "ipython",
    "version": 2
   },
   "file_extension": ".py",
   "mimetype": "text/x-python",
   "name": "python",
   "nbconvert_exporter": "python",
   "pygments_lexer": "ipython2",
   "version": "2.7.6"
  }
 },
 "nbformat": 4,
 "nbformat_minor": 0
}